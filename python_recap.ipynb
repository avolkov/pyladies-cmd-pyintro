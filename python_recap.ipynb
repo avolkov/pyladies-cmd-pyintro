{
 "cells": [
  {
   "cell_type": "markdown",
   "metadata": {},
   "source": [
    "Python tutorial recap\n",
    "=====\n",
    "\n",
    "And introduction to Python 3 (as if it wasn't complicated enough)"
   ]
  },
  {
   "cell_type": "markdown",
   "metadata": {},
   "source": [
    "# REPL demo\n",
    "\n",
    "Read\n",
    "\n",
    "Execute\n",
    "\n",
    "Print\n",
    "\n",
    "Loop\n",
    "\n",
    "Evaluate python code from the interpreter"
   ]
  },
  {
   "cell_type": "code",
   "execution_count": 2,
   "metadata": {
    "collapsed": false
   },
   "outputs": [
    {
     "name": "stdout",
     "output_type": "stream",
     "text": [
      "Hello, world\n",
      "92\n",
      "0.3\n"
     ]
    }
   ],
   "source": [
    "# variables in python\n",
    "a = \"Hello, world\"\n",
    "b = 92\n",
    "c = 0.3\n",
    "print(a)\n",
    "print(b)\n",
    "print(c)"
   ]
  },
  {
   "cell_type": "markdown",
   "metadata": {},
   "source": [
    "# Control Flow\n",
    "\n",
    "https://docs.python.org/3/tutorial/controlflow.html#if-statements"
   ]
  },
  {
   "cell_type": "code",
   "execution_count": 3,
   "metadata": {
    "collapsed": false
   },
   "outputs": [
    {
     "name": "stdout",
     "output_type": "stream",
     "text": [
      "a is smaller than 10 and not equal to 5\n"
     ]
    }
   ],
   "source": [
    "a = 10\n",
    "if a > 10:\n",
    "    print(\"a is greater than 10\")\n",
    "elif a == 5:\n",
    "    print(\" a is 5\")\n",
    "else:\n",
    "    print(\"a is smaller than 10 and not equal to 5\")"
   ]
  },
  {
   "cell_type": "markdown",
   "metadata": {},
   "source": [
    "Data structures:\n",
    "======\n",
    "\n",
    "# Lists\n",
    "\n",
    "https://docs.python.org/3/tutorial/datastructures.html\n",
    "\n",
    "Syntax: list(), [ ]\n",
    "\n",
    "indexable, mutable, non-hashable\n"
   ]
  },
  {
   "cell_type": "code",
   "execution_count": 4,
   "metadata": {
    "collapsed": false
   },
   "outputs": [
    {
     "name": "stdout",
     "output_type": "stream",
     "text": [
      "mylist: [20, 33, 20, 2]\n",
      "First element of mylist: 20\n",
      "Appended 51 to mylist [20, 33, 20, 2, 51]\n",
      "Popping tail of mylist: 51\n",
      "Deleted fourth element of mylist: [20, 33, 20]\n",
      "3\n"
     ]
    }
   ],
   "source": [
    "mylist = [20, 33, 20, 2]\n",
    "print(\"mylist:\", mylist)\n",
    "print(\"First element of mylist:\", mylist[0])\n",
    "mylist.append(51)\n",
    "print(\"Appended 51 to mylist\", mylist)\n",
    "print(\"Popping tail of mylist:\", mylist.pop())\n",
    "del mylist[3]\n",
    "print(\"Deleted fourth element of mylist:\", mylist)\n",
    "print(len(mylist))\n"
   ]
  },
  {
   "cell_type": "markdown",
   "metadata": {},
   "source": [
    "# Slices.\n",
    "\n",
    "It is possible to get more than one element at a time from a list\n"
   ]
  },
  {
   "cell_type": "code",
   "execution_count": 5,
   "metadata": {
    "collapsed": false
   },
   "outputs": [
    {
     "name": "stdout",
     "output_type": "stream",
     "text": [
      "List of letters ['a', 'b', 'c', 'd', 'e', 'f', 'g', 'h']\n"
     ]
    }
   ],
   "source": [
    "slice_test = list(\"abcdefgh\")\n",
    "print(\"List of letters\", slice_test)"
   ]
  },
  {
   "cell_type": "code",
   "execution_count": 6,
   "metadata": {
    "collapsed": false
   },
   "outputs": [
    {
     "name": "stdout",
     "output_type": "stream",
     "text": [
      "['a', 'b', 'c', 'd', 'e', 'f', 'g', 'h']\n",
      "First element a\n",
      "Last element h\n",
      "First three elements ['a', 'b', 'c']\n",
      "Every other element ['a', 'c', 'e', 'g']\n"
     ]
    }
   ],
   "source": [
    "print(slice_test)\n",
    "print(\"First element\", slice_test[0])\n",
    "print(\"Last element\", slice_test[-1])\n",
    "print(\"First three elements\", slice_test[0:3])\n",
    "print(\"Every other element\", slice_test[::2])"
   ]
  },
  {
   "cell_type": "markdown",
   "metadata": {},
   "source": [
    "# Tuples\n",
    "\n",
    "https://docs.python.org/3/tutorial/datastructures.html#tuples-and-sequences\n",
    "\n",
    "Syntax: tuple(), ()\n",
    "\n",
    "indexable, immutable, hashable\n"
   ]
  },
  {
   "cell_type": "code",
   "execution_count": 7,
   "metadata": {
    "collapsed": false
   },
   "outputs": [
    {
     "name": "stdout",
     "output_type": "stream",
     "text": [
      "mytuple is: (20, 33, 20)\n",
      "l_tuple is: ([20, 33, 20],)\n",
      "simple tuple ('a', 1, 2)\n",
      "('a', 1)\n"
     ]
    }
   ],
   "source": [
    "mytuple = tuple(mylist)\n",
    "l_tuple = (mylist, )\n",
    "simple_tuple = ('a',1 ,2)\n",
    "print(\"mytuple is:\", mytuple)\n",
    "print('l_tuple is:', l_tuple)\n",
    "print('simple tuple', simple_tuple)\n",
    "print(simple_tuple[0:2])"
   ]
  },
  {
   "cell_type": "code",
   "execution_count": 8,
   "metadata": {
    "collapsed": false
   },
   "outputs": [
    {
     "name": "stdout",
     "output_type": "stream",
     "text": [
      "First element of mytupe: 20\n"
     ]
    }
   ],
   "source": [
    "print(\"First element of mytupe:\", mytuple[0])"
   ]
  },
  {
   "cell_type": "markdown",
   "metadata": {},
   "source": [
    "#Sets\n",
    "\n",
    "https://docs.python.org/3/tutorial/datastructures.html#sets\n",
    "\n",
    "Syntax: set([..elements...]), {...elements...}\n",
    "\n",
    "non-indexable, mutable, non-hashable, only supports hashable (immutable values), contents must be unique\n",
    "\n",
    "Sets support set operations, such as issubset, difference, union, difference"
   ]
  },
  {
   "cell_type": "code",
   "execution_count": 9,
   "metadata": {
    "collapsed": false
   },
   "outputs": [
    {
     "name": "stdout",
     "output_type": "stream",
     "text": [
      "mylist is [20, 33, 20]\n",
      "Initial myset is {33, 20}\n",
      "Popping an element 33\n",
      "Set is now {20}\n",
      "set differences are {33}\n"
     ]
    },
    {
     "ename": "TypeError",
     "evalue": "unhashable type: 'list'",
     "output_type": "error",
     "traceback": [
      "\u001b[1;31m---------------------------------------------------------------------------\u001b[0m",
      "\u001b[1;31mTypeError\u001b[0m                                 Traceback (most recent call last)",
      "\u001b[1;32m<ipython-input-9-2974315e753d>\u001b[0m in \u001b[0;36m<module>\u001b[1;34m()\u001b[0m\n\u001b[0;32m      6\u001b[0m \u001b[0mprint\u001b[0m\u001b[1;33m(\u001b[0m\u001b[1;34m\"Set is now\"\u001b[0m\u001b[1;33m,\u001b[0m \u001b[0mmyset\u001b[0m\u001b[1;33m)\u001b[0m\u001b[1;33m\u001b[0m\u001b[0m\n\u001b[0;32m      7\u001b[0m \u001b[0mprint\u001b[0m\u001b[1;33m(\u001b[0m\u001b[1;34m\"set differences are\"\u001b[0m\u001b[1;33m,\u001b[0m \u001b[0mset\u001b[0m\u001b[1;33m(\u001b[0m\u001b[0mmylist\u001b[0m\u001b[1;33m)\u001b[0m\u001b[1;33m.\u001b[0m\u001b[0mdifference\u001b[0m\u001b[1;33m(\u001b[0m\u001b[0mmyset\u001b[0m\u001b[1;33m)\u001b[0m\u001b[1;33m)\u001b[0m\u001b[1;33m\u001b[0m\u001b[0m\n\u001b[1;32m----> 8\u001b[1;33m \u001b[0mmyset\u001b[0m\u001b[1;33m.\u001b[0m\u001b[0madd\u001b[0m\u001b[1;33m(\u001b[0m\u001b[1;33m[\u001b[0m\u001b[1;33m]\u001b[0m\u001b[1;33m)\u001b[0m\u001b[1;33m\u001b[0m\u001b[0m\n\u001b[0m",
      "\u001b[1;31mTypeError\u001b[0m: unhashable type: 'list'"
     ]
    }
   ],
   "source": [
    "from copy import deepcopy\n",
    "myset = set(deepcopy(mylist))\n",
    "print(\"mylist is\", mylist)\n",
    "print(\"Initial myset is\", myset)\n",
    "print(\"Popping an element\", myset.pop())\n",
    "print(\"Set is now\", myset)\n",
    "print(\"set differences are\", set(mylist).difference(myset))\n",
    "myset.add([])"
   ]
  },
  {
   "cell_type": "markdown",
   "metadata": {},
   "source": [
    "#Dictionaries\n",
    "\n",
    "https://docs.python.org/3/tutorial/datastructures.html#dictionaries\n",
    "\n",
    "Syntax: dict([(key, value), ....]), {key: value}\n",
    "\n",
    "indexable, mutable, keys must be hashable (immutable) and unique, values can be anything"
   ]
  },
  {
   "cell_type": "code",
   "execution_count": 10,
   "metadata": {
    "collapsed": false
   },
   "outputs": [
    {
     "name": "stdout",
     "output_type": "stream",
     "text": [
      "Weights dictionary: {'apple': 25, 'banana': 23.1, 'stone': 100}\n",
      "Banana weights: 23.1 units\n",
      "Keys: dict_keys(['apple', 'banana', 'stone'])\n",
      "Values: dict_values([25, 23.1, 100])\n",
      "Items: dict_items([('apple', 25), ('banana', 23.1), ('stone', 100)])\n",
      "apple 25\n",
      "banana 23.1\n",
      "stone 100\n"
     ]
    }
   ],
   "source": [
    "weights = {\n",
    "    \"stone\": 100,\n",
    "    \"apple\": 25,\n",
    "    \"banana\": 23.1\n",
    "}\n",
    "print(\"Weights dictionary:\", weights)\n",
    "print(\"Banana weights:\", weights['banana'], \"units\")\n",
    "print(\"Keys:\", weights.keys())\n",
    "print(\"Values:\", weights.values())\n",
    "print(\"Items:\", weights.items())\n",
    "for k,v in weights.items():\n",
    "    print(k,v)"
   ]
  },
  {
   "cell_type": "markdown",
   "metadata": {},
   "source": [
    "# Iteration and looping\n",
    "\n",
    "https://docs.python.org/3/reference/compound_stmts.html#the-while-statement\n",
    "\n",
    "https://docs.python.org/3/reference/compound_stmts.html#the-for-statement"
   ]
  },
  {
   "cell_type": "code",
   "execution_count": 11,
   "metadata": {
    "collapsed": false
   },
   "outputs": [
    {
     "name": "stdout",
     "output_type": "stream",
     "text": [
      "List item 20\n",
      "List item 33\n",
      "List item 20\n"
     ]
    }
   ],
   "source": [
    "#For Loop\n",
    "for item in mylist:\n",
    "    print(\"List item\", item)"
   ]
  },
  {
   "cell_type": "code",
   "execution_count": 12,
   "metadata": {
    "collapsed": false
   },
   "outputs": [
    {
     "name": "stdout",
     "output_type": "stream",
     "text": [
      "Item 1 of 3, value 20\n",
      "Item 2 of 3, value 33\n",
      "Item 3 of 3, value 20\n",
      "0 20\n",
      "1 33\n",
      "2 20\n"
     ]
    }
   ],
   "source": [
    "#Looping with counters\n",
    "for index,item in enumerate(mylist):\n",
    "    print(\"Item %d of %d, value %d\" % (index + 1, len(mylist), item))\n",
    "    \n",
    "for index,item in zip(range(0, len(mylist)), mylist):\n",
    "    print(index, item)"
   ]
  },
  {
   "cell_type": "code",
   "execution_count": 13,
   "metadata": {
    "collapsed": false
   },
   "outputs": [
    {
     "name": "stdout",
     "output_type": "stream",
     "text": [
      "Item 20, count 0\n",
      "Item 33, count 1\n",
      "Item 20, count 2\n"
     ]
    }
   ],
   "source": [
    "#While loops\n",
    "index = 0\n",
    "while index < len(mylist):\n",
    "    print(\"Item %d, count %d\" % (mylist[index], index))\n",
    "    index +=1"
   ]
  },
  {
   "cell_type": "code",
   "execution_count": 14,
   "metadata": {
    "collapsed": false
   },
   "outputs": [
    {
     "name": "stdout",
     "output_type": "stream",
     "text": [
      "Item is: 20\n",
      "Item is: 20\n"
     ]
    }
   ],
   "source": [
    "# Continue statement\n",
    "# Skip the rest of the code\n",
    "for k in mylist:\n",
    "    if k == 33:\n",
    "        continue\n",
    "    print(\"Item is:\", k)"
   ]
  },
  {
   "cell_type": "code",
   "execution_count": 15,
   "metadata": {
    "collapsed": false
   },
   "outputs": [
    {
     "name": "stdout",
     "output_type": "stream",
     "text": [
      "Item is: 20\n"
     ]
    }
   ],
   "source": [
    "# Break statemet\n",
    "# Terminate loop execution\n",
    "for k in mylist:\n",
    "    if k == 33:\n",
    "        break\n",
    "    print (\"Item is:\", k)"
   ]
  },
  {
   "cell_type": "markdown",
   "metadata": {},
   "source": [
    "## List comprehensions\n",
    "\n",
    "https://docs.python.org/3/tutorial/datastructures.html#list-comprehensions"
   ]
  },
  {
   "cell_type": "code",
   "execution_count": 41,
   "metadata": {
    "collapsed": false
   },
   "outputs": [
    {
     "name": "stdout",
     "output_type": "stream",
     "text": [
      "Mylist elements multiplied by 100 [2000, 3300, 2000]\n",
      "New, new list [200000, 330000, 200000]\n"
     ]
    }
   ],
   "source": [
    "# One-liner looping\n",
    "new_list = [x*100 for x in mylist]\n",
    "print(\"Mylist elements multiplied by 100\", new_list)\n",
    "\n",
    "new_new_list = []\n",
    "for x in new_list:\n",
    "    new_new_list.append(x*100)\n",
    "print(\"New, new list\", new_new_list)"
   ]
  },
  {
   "cell_type": "code",
   "execution_count": 42,
   "metadata": {
    "collapsed": false
   },
   "outputs": [
    {
     "name": "stdout",
     "output_type": "stream",
     "text": [
      "This list only contains elements equal to 2000 [2000, 2000]\n"
     ]
    }
   ],
   "source": [
    "# list comprehension with conditionals\n",
    "is_2000 = [ x for x in new_list if x == 2000]\n",
    "print(\"This list only contains elements equal to 2000\", is_2000)"
   ]
  },
  {
   "cell_type": "markdown",
   "metadata": {},
   "source": [
    "# Functions\n",
    "\n",
    "https://docs.python.org/3/tutorial/controlflow.html#defining-functions"
   ]
  },
  {
   "cell_type": "code",
   "execution_count": 18,
   "metadata": {
    "collapsed": false
   },
   "outputs": [
    {
     "name": "stdout",
     "output_type": "stream",
     "text": [
      "Bar\n"
     ]
    }
   ],
   "source": [
    "# A function taking no parameters\n",
    "def foo():\n",
    "    print(\"Bar\")\n",
    "foo()"
   ]
  },
  {
   "cell_type": "code",
   "execution_count": 43,
   "metadata": {
    "collapsed": false
   },
   "outputs": [
    {
     "name": "stdout",
     "output_type": "stream",
     "text": [
      "Parameter bar Hello\n"
     ]
    }
   ],
   "source": [
    "# Mandatory parameters\n",
    "def foo1(bar):\n",
    "    print(\"Parameter bar\", bar)\n",
    "\n",
    "foo1(\"Hello\")"
   ]
  },
  {
   "cell_type": "code",
   "execution_count": 20,
   "metadata": {
    "collapsed": false
   },
   "outputs": [
    {
     "ename": "TypeError",
     "evalue": "foo1() missing 1 required positional argument: 'bar'",
     "output_type": "error",
     "traceback": [
      "\u001b[1;31m---------------------------------------------------------------------------\u001b[0m",
      "\u001b[1;31mTypeError\u001b[0m                                 Traceback (most recent call last)",
      "\u001b[1;32m<ipython-input-20-178d8244afcc>\u001b[0m in \u001b[0;36m<module>\u001b[1;34m()\u001b[0m\n\u001b[0;32m      1\u001b[0m \u001b[1;31m# Missing parameters\u001b[0m\u001b[1;33m\u001b[0m\u001b[1;33m\u001b[0m\u001b[0m\n\u001b[1;32m----> 2\u001b[1;33m \u001b[0mfoo1\u001b[0m\u001b[1;33m(\u001b[0m\u001b[1;33m)\u001b[0m\u001b[1;33m\u001b[0m\u001b[0m\n\u001b[0m",
      "\u001b[1;31mTypeError\u001b[0m: foo1() missing 1 required positional argument: 'bar'"
     ]
    }
   ],
   "source": [
    "# Missing parameters\n",
    "foo1()"
   ]
  },
  {
   "cell_type": "code",
   "execution_count": 21,
   "metadata": {
    "collapsed": false
   },
   "outputs": [
    {
     "name": "stdout",
     "output_type": "stream",
     "text": [
      "Hello World\n",
      "Hello Bill\n"
     ]
    }
   ],
   "source": [
    "# Default parameters\n",
    "def foo2(bar, bar1=\"World\"):\n",
    "    print(bar, bar1)\n",
    "    \n",
    "#public foo2(bar)\n",
    "# public foo2(bar, bar1)\n",
    "foo2(\"Hello\")# Overriding default parameters\n",
    "foo2(\"Hello\", \"Bill\")\n"
   ]
  },
  {
   "cell_type": "code",
   "execution_count": 44,
   "metadata": {
    "collapsed": false
   },
   "outputs": [
    {
     "name": "stdout",
     "output_type": "stream",
     "text": [
      "unnamed parameter count 0\n",
      "unnamed parameters ()\n",
      "Named parameter count 0\n",
      "Named parameters {}\n"
     ]
    }
   ],
   "source": [
    "# Required & default parameters\n",
    "def foo3(*args, **kwargs):\n",
    "    print(\"unnamed parameter count\", len(args))\n",
    "    print(\"unnamed parameters\", args)\n",
    "    print(\"Named parameter count\", len(kwargs))\n",
    "    print(\"Named parameters\", kwargs)\n",
    "\n",
    "foo3()"
   ]
  },
  {
   "cell_type": "code",
   "execution_count": 23,
   "metadata": {
    "collapsed": false
   },
   "outputs": [
    {
     "name": "stdout",
     "output_type": "stream",
     "text": [
      "unnamed parameter count 4\n",
      "unnamed parameters ('a', 20, 2.45, ())\n",
      "Named parameter count 0\n",
      "Named parameters {}\n",
      "===\n",
      "unnamed parameter count 2\n",
      "unnamed parameters (1, 2)\n",
      "Named parameter count 0\n",
      "Named parameters {}\n"
     ]
    }
   ],
   "source": [
    "#giving only unnamed parameters\n",
    "foo3(\"a\", 20, 2.45, ())\n",
    "print(\"===\")\n",
    "foo3(*[1, 2])"
   ]
  },
  {
   "cell_type": "code",
   "execution_count": 24,
   "metadata": {
    "collapsed": false
   },
   "outputs": [
    {
     "name": "stdout",
     "output_type": "stream",
     "text": [
      "unnamed parameter count 0\n",
      "unnamed parameters ()\n",
      "Named parameter count 2\n",
      "Named parameters {'foo': 'bar', 'mylist': [20, 33, 20]}\n"
     ]
    }
   ],
   "source": [
    "foo3(foo=\"bar\", mylist=mylist)"
   ]
  },
  {
   "cell_type": "code",
   "execution_count": 25,
   "metadata": {
    "collapsed": false
   },
   "outputs": [
    {
     "name": "stdout",
     "output_type": "stream",
     "text": [
      "unnamed parameter count 1\n",
      "unnamed parameters (42,)\n",
      "Named parameter count 1\n",
      "Named parameters {'test': 'testing is good'}\n"
     ]
    }
   ],
   "source": [
    "foo3(42, test=\"testing is good\")"
   ]
  },
  {
   "cell_type": "markdown",
   "metadata": {},
   "source": [
    "add import examples here"
   ]
  },
  {
   "cell_type": "code",
   "execution_count": 26,
   "metadata": {
    "collapsed": false
   },
   "outputs": [
    {
     "name": "stdout",
     "output_type": "stream",
     "text": [
      "<bound method Random.randint of <random.Random object at 0x1dabfb8>>\n",
      "<bound method Random.randint of <random.Random object at 0x1dabfb8>>\n"
     ]
    },
    {
     "data": {
      "text/plain": [
       "5"
      ]
     },
     "execution_count": 26,
     "metadata": {},
     "output_type": "execute_result"
    }
   ],
   "source": [
    "import random\n",
    "print(random.randint)\n",
    "\n",
    "from random import randint\n",
    "print(randint)\n",
    "\n",
    "# you should never do this:\n",
    "from random import *\n",
    "\n",
    "randint(0, 10)\n",
    "\n"
   ]
  },
  {
   "cell_type": "code",
   "execution_count": 27,
   "metadata": {
    "collapsed": false
   },
   "outputs": [
    {
     "name": "stdout",
     "output_type": "stream",
     "text": [
      "60\n",
      "15\n",
      "80\n",
      "78\n",
      "51\n",
      "====\n",
      "60\n",
      "15\n",
      "80\n",
      "78\n",
      "51\n"
     ]
    }
   ],
   "source": [
    "import random\n",
    "random.seed(64)\n",
    "for _ in range(5):\n",
    "    print(random.randint(0, 100))\n",
    "print(\"====\")    \n",
    "random.seed(64)\n",
    "for _ in range(5):\n",
    "    print(random.randint(0, 100))"
   ]
  },
  {
   "cell_type": "markdown",
   "metadata": {},
   "source": [
    "# Classes\n",
    "\n",
    "https://docs.python.org/3/tutorial/classes.html\n"
   ]
  },
  {
   "cell_type": "code",
   "execution_count": 28,
   "metadata": {
    "collapsed": false
   },
   "outputs": [
    {
     "data": {
      "text/plain": [
       "'Hello, World!'"
      ]
     },
     "execution_count": 28,
     "metadata": {},
     "output_type": "execute_result"
    }
   ],
   "source": [
    "class Sample:\n",
    "    def __init__(self, greeting=\"Hello, World!\"):\n",
    "        self.greeting = greeting\n",
    "        \n",
    "    def hello(self):\n",
    "        return self.greeting\n",
    "\n",
    "s1 = Sample()\n",
    "s1.hello()"
   ]
  },
  {
   "cell_type": "code",
   "execution_count": 29,
   "metadata": {
    "collapsed": false
   },
   "outputs": [
    {
     "data": {
      "text/plain": [
       "'Hello, Jim!'"
      ]
     },
     "execution_count": 29,
     "metadata": {},
     "output_type": "execute_result"
    }
   ],
   "source": [
    "s2 = Sample(\"Hello, Jim!\")\n",
    "s2.hello()"
   ]
  },
  {
   "cell_type": "markdown",
   "metadata": {},
   "source": [
    "\n",
    "# Exception Handling\n",
    "\n",
    "https://docs.python.org/3/tutorial/errors.html"
   ]
  },
  {
   "cell_type": "code",
   "execution_count": 30,
   "metadata": {
    "collapsed": false
   },
   "outputs": [
    {
     "ename": "ZeroDivisionError",
     "evalue": "division by zero",
     "output_type": "error",
     "traceback": [
      "\u001b[1;31m---------------------------------------------------------------------------\u001b[0m",
      "\u001b[1;31mZeroDivisionError\u001b[0m                         Traceback (most recent call last)",
      "\u001b[1;32m<ipython-input-30-67a78d98eac4>\u001b[0m in \u001b[0;36m<module>\u001b[1;34m()\u001b[0m\n\u001b[1;32m----> 1\u001b[1;33m \u001b[0mx\u001b[0m \u001b[1;33m=\u001b[0m \u001b[1;36m100\u001b[0m \u001b[1;33m/\u001b[0m \u001b[1;36m0\u001b[0m\u001b[1;33m\u001b[0m\u001b[0m\n\u001b[0m",
      "\u001b[1;31mZeroDivisionError\u001b[0m: division by zero"
     ]
    }
   ],
   "source": [
    "x = 100 / 0"
   ]
  },
  {
   "cell_type": "code",
   "execution_count": 31,
   "metadata": {
    "collapsed": false
   },
   "outputs": [
    {
     "name": "stdout",
     "output_type": "stream",
     "text": [
      "Caught an exception, trying to divide by zero\n",
      "Exception message: division by zero\n"
     ]
    }
   ],
   "source": [
    "try:\n",
    "    # like 'throw' in Java\n",
    "    x = 100 / 0\n",
    "except ZeroDivisionError as e:\n",
    "    print(\"Caught an exception, trying to divide by zero\")\n",
    "    print(\"Exception message:\", e)"
   ]
  },
  {
   "cell_type": "code",
   "execution_count": 32,
   "metadata": {
    "collapsed": false
   },
   "outputs": [
    {
     "name": "stdout",
     "output_type": "stream",
     "text": [
      "some code that works\n",
      "When exception doesn't get triggered\n",
      "This code executes\n",
      "This code executes no matter what\n"
     ]
    }
   ],
   "source": [
    "# Catching multiple exceptions in th same clause\n",
    "try:\n",
    "    print(\"some code that works\")\n",
    "except (IOError) as e:\n",
    "    print(\"This exception doesn't get triggered\")\n",
    "    print(e)\n",
    "else:\n",
    "    print(\"When exception doesn't get triggered\")\n",
    "    print(\"This code executes\")\n",
    "finally:\n",
    "    print(\"This code executes no matter what\")\n",
    "    # Very useful when need to do cleanup\n",
    "    "
   ]
  },
  {
   "cell_type": "markdown",
   "metadata": {},
   "source": [
    "# Doctests\n",
    "\n",
    "https://docs.python.org/3.4/library/doctest.html"
   ]
  },
  {
   "cell_type": "code",
   "execution_count": 33,
   "metadata": {
    "collapsed": false
   },
   "outputs": [
    {
     "name": "stdout",
     "output_type": "stream",
     "text": [
      "Trying:\n",
      "    my_function(2, 3)\n",
      "Expecting:\n",
      "    6\n",
      "ok\n",
      "Trying:\n",
      "    my_function('a', 3)\n",
      "Expecting:\n",
      "    'aaa'\n",
      "ok\n",
      "Trying:\n",
      "    square(6)\n",
      "Expecting:\n",
      "    36\n",
      "ok\n",
      "8 items had no tests:\n",
      "    __main__\n",
      "    __main__.Sample\n",
      "    __main__.Sample.__init__\n",
      "    __main__.Sample.hello\n",
      "    __main__.foo\n",
      "    __main__.foo1\n",
      "    __main__.foo2\n",
      "    __main__.foo3\n",
      "2 items passed all tests:\n",
      "   2 tests in __main__.my_function\n",
      "   1 tests in __main__.square\n",
      "3 tests in 10 items.\n",
      "3 passed and 0 failed.\n",
      "Test passed.\n"
     ]
    },
    {
     "data": {
      "text/plain": [
       "TestResults(failed=0, attempted=3)"
      ]
     },
     "execution_count": 33,
     "metadata": {},
     "output_type": "execute_result"
    }
   ],
   "source": [
    "def my_function(a, b):\n",
    "    \"\"\"\n",
    "    >>> my_function(2, 3)\n",
    "    6\n",
    "    >>> my_function('a', 3)\n",
    "    'aaa'\n",
    "    \"\"\"\n",
    "    return a * b\n",
    "\n",
    "def square(x):\n",
    "    \"\"\"\n",
    "    This is a sample square function\n",
    "    >>> square(6)\n",
    "    36\n",
    "    \"\"\"\n",
    "    return x * x\n",
    "import doctest\n",
    "doctest.testmod(verbose=True)"
   ]
  },
  {
   "cell_type": "markdown",
   "metadata": {},
   "source": [
    "# Testing\n",
    "\n",
    "https://docs.python.org/3/library/unittest.html\n",
    "\n",
    "Python unittesting framework is originally inspired by JUnit, so this should look familiar."
   ]
  },
  {
   "cell_type": "code",
   "execution_count": 48,
   "metadata": {
    "collapsed": false
   },
   "outputs": [
    {
     "name": "stderr",
     "output_type": "stream",
     "text": [
      "..."
     ]
    },
    {
     "name": "stdout",
     "output_type": "stream",
     "text": [
      "setting things up\n",
      "test one\n",
      "tearing things down\n",
      "setting things up\n",
      "test three\n",
      "tearing things down\n",
      "setting things up\n",
      "test two\n",
      "tearing things down\n"
     ]
    },
    {
     "name": "stderr",
     "output_type": "stream",
     "text": [
      "\n",
      "----------------------------------------------------------------------\n",
      "Ran 3 tests in 0.010s\n",
      "\n",
      "OK\n"
     ]
    },
    {
     "data": {
      "text/plain": [
       "<unittest.runner.TextTestResult run=3 errors=0 failures=0>"
      ]
     },
     "execution_count": 48,
     "metadata": {},
     "output_type": "execute_result"
    }
   ],
   "source": [
    "import sys # run unittest from ipython notebook\n",
    "import unittest # python built-in test class\n",
    "\n",
    "class TestSample(unittest.TestCase):\n",
    "\n",
    "    def setUp(self):\n",
    "        ## This is a more tricky part when working with a web application\n",
    "        print(\"setting things up\")\n",
    "    \n",
    "    def tearDown(self):\n",
    "        print(\"tearing things down\")\n",
    "\n",
    "    def test_one(self):\n",
    "        print(\"test one\")\n",
    "        self.assertTrue(True)\n",
    "    \n",
    "    def test_two(self):\n",
    "        print(\"test two\")\n",
    "        with self.assertRaises(Exception):\n",
    "            raise Exception()\n",
    "    \n",
    "    def test_three(self):\n",
    "        print(\"test three\")\n",
    "        self.assertFalse(False)\n",
    "    \n",
    "suite = unittest.TestLoader().loadTestsFromTestCase(TestSample)\n",
    "unittest.TextTestRunner(verbosity=1,stream=sys.stderr).run(suite)"
   ]
  },
  {
   "cell_type": "markdown",
   "metadata": {},
   "source": [
    "# Debugging\n",
    "\n",
    "https://docs.python.org/3/library/pdb.html\n",
    "\n",
    "https://docs.python.org/3/library/inspect.html"
   ]
  },
  {
   "cell_type": "code",
   "execution_count": 35,
   "metadata": {
    "collapsed": false
   },
   "outputs": [
    {
     "name": "stdout",
     "output_type": "stream",
     "text": [
      "LOCALS: dict_keys(['triangular', 'get_ipython', '_i4', 'Random', '_29', '_i10', 'seed', '_iii', 'quit', '__package__', '_i23', '_oh', 'gammavariate', '__loader__', 'vonmisesvariate', '_i5', '_ih', 'betavariate', 'b', 'slice_test', 'paretovariate', 'item', '_i14', 'exit', 'new_new_list', '_sh', 'sample', '_i20', '__builtins__', '_i30', 'mytuple', 'randint', '_i17', 'Out', 'new_list', '__spec__', 'simple_tuple', 'choice', '_i31', 'normalvariate', '__doc__', 'c', 'doctest', 'random', '_i', '_i13', '_i3', '_i24', 's1', '_i29', '_i27', '_i19', '__name__', 'foo', '__builtin__', 'square', 'getrandbits', '_i26', '_i15', 'Sample', 'uniform', '__', '_i21', 'weibullvariate', 'k', '_i1', 'deepcopy', '_i22', 'expovariate', '_i35', '_i28', 'gauss', 'SystemRandom', '_28', '_i34', 'l_tuple', '_i2', '_i7', 'foo2', 'lognormvariate', '_dh', '___', '_26', 'x', 'setstate', '_i6', '_ii', 'foo1', '_i9', 'randrange', '_i32', 'v', 'my_function', '_33', 'foo3', '_i11', 'a', 'In', 'myset', '_i12', '_i33', '_i18', 's2', 'getstate', 'shuffle', 'weights', 'index', 'mylist', '_i16', '_i8', 'is_2000', '_i25'])\n",
      "GLOBALS: dict_keys(['triangular', 'get_ipython', '_i4', 'Random', '_29', '_i10', 'seed', '_iii', 'quit', '__package__', '_i23', '_oh', 'gammavariate', '__loader__', 'vonmisesvariate', '_i5', '_ih', 'betavariate', 'b', 'slice_test', 'paretovariate', 'item', '_i14', 'exit', 'new_new_list', '_sh', 'sample', '_i20', '__builtins__', '_i30', 'mytuple', 'randint', '_i17', 'Out', 'new_list', '__spec__', 'simple_tuple', 'choice', '_i31', 'normalvariate', '__doc__', 'c', 'doctest', 'random', '_i', '_i13', '_i3', '_i24', 's1', '_i29', '_i27', '_i19', '__name__', 'foo', '__builtin__', 'square', 'getrandbits', '_i26', '_i15', 'Sample', 'uniform', '__', '_i21', 'weibullvariate', 'k', '_i1', 'deepcopy', '_i22', 'expovariate', '_i35', '_i28', 'gauss', 'SystemRandom', '_28', '_i34', 'l_tuple', '_i2', '_i7', 'foo2', 'lognormvariate', '_dh', '___', '_26', 'x', 'setstate', '_i6', '_ii', 'foo1', '_i9', 'randrange', '_i32', 'v', 'my_function', '_33', 'foo3', '_i11', 'a', 'In', 'myset', '_i12', '_i33', '_i18', 's2', 'getstate', 'shuffle', 'weights', 'index', 'mylist', '_i16', '_i8', 'is_2000', '_i25'])\n"
     ]
    }
   ],
   "source": [
    "# Print local and global variables\n",
    "\n",
    "print(\"LOCALS:\", locals().keys())\n",
    "print(\"GLOBALS:\", globals().keys())"
   ]
  },
  {
   "cell_type": "code",
   "execution_count": 36,
   "metadata": {
    "collapsed": false
   },
   "outputs": [
    {
     "name": "stdout",
     "output_type": "stream",
     "text": [
      "['__add__', '__class__', '__contains__', '__delattr__', '__dir__', '__doc__', '__eq__', '__format__', '__ge__', '__getattribute__', '__getitem__', '__getnewargs__', '__gt__', '__hash__', '__init__', '__iter__', '__le__', '__len__', '__lt__', '__mod__', '__mul__', '__ne__', '__new__', '__reduce__', '__reduce_ex__', '__repr__', '__rmod__', '__rmul__', '__setattr__', '__sizeof__', '__str__', '__subclasshook__', 'capitalize', 'casefold', 'center', 'count', 'encode', 'endswith', 'expandtabs', 'find', 'format', 'format_map', 'index', 'isalnum', 'isalpha', 'isdecimal', 'isdigit', 'isidentifier', 'islower', 'isnumeric', 'isprintable', 'isspace', 'istitle', 'isupper', 'join', 'ljust', 'lower', 'lstrip', 'maketrans', 'partition', 'replace', 'rfind', 'rindex', 'rjust', 'rpartition', 'rsplit', 'rstrip', 'split', 'splitlines', 'startswith', 'strip', 'swapcase', 'title', 'translate', 'upper', 'zfill']\n"
     ]
    }
   ],
   "source": [
    "# Examine a variable\n",
    "x = '''here\n",
    "you\n",
    "go'''\n",
    "print(dir(x))"
   ]
  },
  {
   "cell_type": "code",
   "execution_count": 37,
   "metadata": {
    "collapsed": false
   },
   "outputs": [
    {
     "name": "stdout",
     "output_type": "stream",
     "text": [
      "/home/alex/.virtualenvs/django/lib/python3.4/site-packages/django/__init__.py\n"
     ]
    }
   ],
   "source": [
    "# Inspect -- instrospection\n",
    "import django\n",
    "\n",
    "import inspect\n",
    "print(inspect.getsourcefile(django))"
   ]
  },
  {
   "cell_type": "code",
   "execution_count": 38,
   "metadata": {
    "collapsed": true
   },
   "outputs": [],
   "source": [
    "#debugger\n",
    "\n",
    "# import pdb; pdb.set_trace()\n",
    "\n",
    "# running python with '-m pdb' option"
   ]
  },
  {
   "cell_type": "markdown",
   "metadata": {},
   "source": []
  }
 ],
 "metadata": {
  "kernelspec": {
   "display_name": "Python 3",
   "language": "python",
   "name": "python3"
  },
  "language_info": {
   "codemirror_mode": {
    "name": "ipython",
    "version": 3
   },
   "file_extension": ".py",
   "mimetype": "text/x-python",
   "name": "python",
   "nbconvert_exporter": "python",
   "pygments_lexer": "ipython3",
   "version": "3.4.2"
  }
 },
 "nbformat": 4,
 "nbformat_minor": 0
}
